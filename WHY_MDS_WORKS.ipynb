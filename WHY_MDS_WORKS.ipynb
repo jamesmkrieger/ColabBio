{
  "nbformat": 4,
  "nbformat_minor": 0,
  "metadata": {
    "colab": {
      "provenance": [],
      "authorship_tag": "ABX9TyMkat4Cv7OHikeJQTCMA1oN",
      "include_colab_link": true
    },
    "kernelspec": {
      "name": "python3",
      "display_name": "Python 3"
    }
  },
  "cells": [
    {
      "cell_type": "markdown",
      "metadata": {
        "id": "view-in-github",
        "colab_type": "text"
      },
      "source": [
        "<a href=\"https://colab.research.google.com/github/sokrypton/ColabBio/blob/main/WHY_MDS_WORKS.ipynb\" target=\"_parent\"><img src=\"https://colab.research.google.com/assets/colab-badge.svg\" alt=\"Open In Colab\"/></a>"
      ]
    },
    {
      "cell_type": "code",
      "metadata": {
        "id": "vuUir3vbmWEC"
      },
      "source": [
        "# http://www.galileoco.com/literature/OCRyoungHouseholder38.pdf\n",
        "# https://en.wikipedia.org/wiki/Multidimensional_scaling#Classical_multidimensional_scaling"
      ],
      "execution_count": null,
      "outputs": []
    },
    {
      "cell_type": "code",
      "metadata": {
        "id": "GjxLK5c2sH3S"
      },
      "source": [
        "import numpy as np\n",
        "import matplotlib.pyplot as plt"
      ],
      "execution_count": null,
      "outputs": []
    },
    {
      "cell_type": "code",
      "metadata": {
        "id": "Kl-n-YxussC5"
      },
      "source": [
        "# dimensions\n",
        "dim = 3\n",
        "# random coordinates\n",
        "a = np.random.normal(size=(100,dim))\n",
        "# center\n",
        "a -= np.mean(a,0)"
      ],
      "execution_count": null,
      "outputs": []
    },
    {
      "cell_type": "code",
      "metadata": {
        "id": "rr38FY6Ltt2Q"
      },
      "source": [
        "# compute distance matrix, method #1\n",
        "a_dm = np.sqrt(np.square((a[None,:]-a[:,None])).sum(-1))\n",
        "\n",
        "# compute distance matrix, method #2\n",
        "a_cov = a@a.T\n",
        "a_norm = np.square(a).sum(-1)\n",
        "aa_norm = a_norm[:,None]+a_norm[None,:]\n",
        "a_cov_dm = np.sqrt(np.abs(aa_norm - 2*a_cov))"
      ],
      "execution_count": null,
      "outputs": []
    },
    {
      "cell_type": "code",
      "metadata": {
        "id": "agvuWVG3u4bL",
        "colab": {
          "base_uri": "https://localhost:8080/",
          "height": 334
        },
        "outputId": "6250ddba-3411-40c1-8915-506a979df958"
      },
      "source": [
        "plt.figure(figsize=(5,5))\n",
        "plt.scatter(a_dm, a_cov_dm, s=1)\n",
        "plt.xlabel(\"dm (method #1)\")\n",
        "plt.ylabel(\"dm (method #2)\")\n",
        "plt.show()"
      ],
      "execution_count": null,
      "outputs": [
        {
          "output_type": "display_data",
          "data": {
            "image/png": "[encoded data removed]",
            "text/plain": [
              "<Figure size 360x360 with 1 Axes>"
            ]
          },
          "metadata": {
            "tags": [],
            "needs_background": "light"
          }
        }
      ]
    },
    {
      "cell_type": "code",
      "metadata": {
        "id": "2FibJRfituR4"
      },
      "source": [
        "# convert distance matrix into gram matrix\n",
        "# aka \"double centering\"\n",
        "L = a_dm.shape[0]\n",
        "d = np.square(a_dm)\n",
        "c = np.eye(L) - np.ones((L,L))/L\n",
        "a_grm = -0.5 * c @ d @ c"
      ],
      "execution_count": null,
      "outputs": []
    },
    {
      "cell_type": "code",
      "metadata": {
        "id": "omgUDhfy0boa",
        "colab": {
          "base_uri": "https://localhost:8080/",
          "height": 334
        },
        "outputId": "af37d0bf-09ad-4594-add4-18b09e766a84"
      },
      "source": [
        "# compare gram matrix to covariance matrix\n",
        "plt.figure(figsize=(5,5))\n",
        "plt.scatter(a_grm, a_cov, s=1)\n",
        "plt.xlabel(\"gram matrix\")\n",
        "plt.ylabel(\"covariance matrix\")\n",
        "plt.show()"
      ],
      "execution_count": null,
      "outputs": [
        {
          "output_type": "display_data",
          "data": {
            "image/png": "[encoded data removed]",
            "text/plain": [
              "<Figure size 360x360 with 1 Axes>"
            ]
          },
          "metadata": {
            "tags": [],
            "needs_background": "light"
          }
        }
      ]
    },
    {
      "cell_type": "code",
      "metadata": {
        "id": "QnUt_DX9uR9Y"
      },
      "source": [
        "# go from gram (or covariance matrix) back to distance matrix\n",
        "e_val_grm, e_vec_grm = np.linalg.eigh(a_grm)\n",
        "a_xyz_grm = np.sqrt(e_val_grm[-dim:]) * e_vec_grm[:,-dim:]\n",
        "a_dm_grm = np.sqrt(np.square((a_xyz_grm[None,:] - a_xyz_grm[:,None])).sum(-1))"
      ],
      "execution_count": null,
      "outputs": []
    },
    {
      "cell_type": "code",
      "metadata": {
        "id": "9MyT5jyrwsRE",
        "colab": {
          "base_uri": "https://localhost:8080/",
          "height": 334
        },
        "outputId": "28b1fda1-98a0-4ae7-f5b1-3b42c6a2529a"
      },
      "source": [
        "plt.figure(figsize=(5,5))\n",
        "plt.plot(a_dm.flatten(), a_dm_grm.flatten())\n",
        "plt.xlabel(\"distance matrix\")\n",
        "plt.ylabel(\"recovered distance matrix\")\n",
        "plt.show()"
      ],
      "execution_count": null,
      "outputs": [
        {
          "output_type": "display_data",
          "data": {
            "image/png": "[encoded data removed]",
            "text/plain": [
              "<Figure size 360x360 with 1 Axes>"
            ]
          },
          "metadata": {
            "tags": [],
            "needs_background": "light"
          }
        }
      ]
    },
    {
      "cell_type": "code",
      "metadata": {
        "id": "lIeAaXhfwuxk"
      },
      "source": [],
      "execution_count": null,
      "outputs": []
    }
  ]
}