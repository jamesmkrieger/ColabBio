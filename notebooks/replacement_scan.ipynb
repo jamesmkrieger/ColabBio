{
  "cells": [
    {
      "cell_type": "markdown",
      "metadata": {
        "id": "view-in-github",
        "colab_type": "text"
      },
      "source": [
        "<a href=\"https://colab.research.google.com/github/sokrypton/ColabBio/blob/main/notebooks/replacement_scan.ipynb\" target=\"_parent\"><img src=\"https://colab.research.google.com/assets/colab-badge.svg\" alt=\"Open In Colab\"/></a>"
      ]
    },
    {
      "cell_type": "markdown",
      "metadata": {
        "id": "OA2k3sAYuiXe"
      },
      "source": [
        "# Replacement Scan\n",
        "\n",
        "Purpose: Find how many amino acid replacements your protein can tolerate and still make same prediction. Note, this protocol runs in single-sequence only (NO MSA). The analysis is likely only useful for denovo designed proteins."
      ]
    },
    {
      "cell_type": "code",
      "execution_count": null,
      "metadata": {
        "id": "-AXy0s_4cKaK"
      },
      "outputs": [],
      "source": [
        "#@title setup\n",
        "%%time\n",
        "import os\n",
        "if not os.path.isdir(\"params\"):\n",
        "  # get code\n",
        "  os.system(\"pip -q install git+https://github.com/sokrypton/ColabDesign.git\")\n",
        "  # for debugging\n",
        "  os.system(\"ln -s /usr/local/lib/python3.*/dist-packages/colabdesign colabdesign\")\n",
        "  # download params\n",
        "  os.system(\"mkdir params\")\n",
        "  os.system(\"apt-get install aria2 -qq\")\n",
        "  os.system(\"aria2c -q -x 16 https://storage.googleapis.com/alphafold/alphafold_params_2022-12-06.tar\")\n",
        "  os.system(\"tar -xf alphafold_params_2022-12-06.tar -C params\")\n",
        "\n",
        "import warnings\n",
        "warnings.simplefilter(action='ignore', category=FutureWarning)\n",
        "\n",
        "import os\n",
        "from colabdesign import mk_af_model, clear_mem\n",
        "from colabdesign.af.alphafold.common import residue_constants\n",
        "\n",
        "from IPython.display import HTML\n",
        "from google.colab import files\n",
        "import numpy as np\n",
        "\n",
        "import tqdm.notebook\n",
        "TQDM_BAR_FORMAT = '{l_bar}{bar}| {n_fmt}/{total_fmt} [elapsed: {elapsed} remaining: {remaining}]'\n",
        "\n",
        "\n",
        "def get_pdb(pdb_code=\"\"):\n",
        "  if pdb_code is None or pdb_code == \"\":\n",
        "    upload_dict = files.upload()\n",
        "    pdb_string = upload_dict[list(upload_dict.keys())[0]]\n",
        "    with open(\"tmp.pdb\",\"wb\") as out: out.write(pdb_string)\n",
        "    return \"tmp.pdb\"\n",
        "  elif os.path.isfile(pdb_code):\n",
        "    return pdb_code\n",
        "  elif len(pdb_code) == 4:\n",
        "    os.system(f\"wget -qnc https://files.rcsb.org/view/{pdb_code}.pdb\")\n",
        "    return f\"{pdb_code}.pdb\"\n",
        "  else:\n",
        "    os.system(f\"wget -qnc https://alphafold.ebi.ac.uk/files/AF-{pdb_code}-F1-model_v3.pdb\")\n",
        "    return f\"AF-{pdb_code}-F1-model_v3.pdb\"\n",
        "\n",
        "clear_mem()\n",
        "af_model = mk_af_model(protocol=\"fixbb\")"
      ]
    },
    {
      "cell_type": "code",
      "source": [
        "#@title run\n",
        "#@markdown #### Input Options\n",
        "pdb = \"6MRR\" #@param {type:\"string\"}\n",
        "chain = \"A\" #@param {type:\"string\"}\n",
        "#@markdown #### Model Options\n",
        "num_recycles = 0 #@param [\"0\", \"1\", \"2\", \"3\"] {type:\"raw\"}\n",
        "#@markdown #### Scan Options\n",
        "num_tries = -1 #@param [-1,10,20] {type:\"raw\"}\n",
        "#@markdown - number of mutations to try before accepting. (`-1` = greedy, try all).\n",
        "mut_res = \"A\" # @param [\"None\", \"A\",\"R\",\"N\",\"D\",\"C\",\"Q\",\"E\",\"G\",\"H\",\"I\",\"L\",\"K\",\"M\",\"F\",\"P\",\"S\",\"T\",\"W\",\"Y\",\"V\"]\n",
        "#@markdown - which mutation to make (`None` = mask the position completely).\n",
        "sco_type = \"rmsd+dgram\" # @param [\"rmsd+dgram\",\"rmsd\",\"dgram\",\"pae\"]\n",
        "#@markdown - criteria to select by (`dgram` = cce between true and predicted distogram)\n",
        "\n",
        "def get_sco(aux, sco_type):\n",
        "  if sco_type == \"rmsd\":\n",
        "    loss = aux[\"losses\"][\"rmsd\"]\n",
        "  elif sco_type == \"dgram\":\n",
        "    loss = aux[\"losses\"][\"dgram_cce\"]\n",
        "  else:\n",
        "    loss = aux[\"losses\"][\"rmsd\"] + aux[\"losses\"][\"dgram_cce\"]\n",
        "  return loss\n",
        "\n",
        "MUT = -1 if mut_res == \"None\" else residue_constants.restype_order[mut_res]\n",
        "\n",
        "pdb_filename = get_pdb(pdb)\n",
        "af_model.prep_inputs(pdb_filename=pdb_filename, chain=chain)\n",
        "WT = af_model._wt_aatype.copy()\n",
        "NEW_SEQ = WT.copy()\n",
        "\n",
        "af_model.predict(seq=NEW_SEQ, verbose=False, hard=False, num_recycles=num_recycles)\n",
        "af_model._save_results(verbose=False)\n",
        "\n",
        "RMSDS = [af_model.aux[\"losses\"][\"rmsd\"]]\n",
        "SEQS = [NEW_SEQ]\n",
        "loss = get_sco(af_model.aux, sco_type)\n",
        "print(f\"{af_model._k} rmsd={RMSDS[-1]:.3f} sco={loss:.3f}\")\n",
        "af_model._k += 1\n",
        "\n",
        "while sum(NEW_SEQ != MUT):\n",
        "  pos = np.where(NEW_SEQ != MUT)[0]\n",
        "  if num_tries > -1:\n",
        "    pos = np.random.permutation(pos)[:num_tries]\n",
        "  buff = []\n",
        "  losses = []\n",
        "  for t in pos:\n",
        "    test_seq = NEW_SEQ.copy()\n",
        "    test_seq[t] = MUT\n",
        "    aux = af_model.predict(seq=test_seq, return_aux=True, verbose=False, hard=False, num_recycles=num_recycles)\n",
        "    buff.append({\"aux\":aux, \"seq\":test_seq})\n",
        "    losses.append(get_sco(aux, sco_type))\n",
        "\n",
        "  # accept best\n",
        "  best_idx = np.argmin(losses)\n",
        "  best = buff[best_idx]\n",
        "  NEW_SEQ = best[\"seq\"]\n",
        "  RMSDS.append(best[\"aux\"][\"losses\"][\"rmsd\"])\n",
        "  SEQS.append(NEW_SEQ)\n",
        "\n",
        "  af_model.aux = best[\"aux\"]\n",
        "  af_model.set_seq(seq=NEW_SEQ)\n",
        "  af_model._save_results(verbose=False)\n",
        "  print(f\"{af_model._k} rmsd={RMSDS[-1]:.3f} sco={losses[best_idx]:.3f}\")\n",
        "  af_model._k += 1"
      ],
      "metadata": {
        "cellView": "form",
        "id": "jNmJkGdEb1SE"
      },
      "execution_count": null,
      "outputs": []
    },
    {
      "cell_type": "code",
      "source": [
        "import matplotlib.pyplot as plt\n",
        "plt.figure(figsize=(5,4), dpi=100)\n",
        "plt.plot([sum(seq == MUT)/len(seq) for seq in SEQS], RMSDS)\n",
        "plt.yscale(\"log\")\n",
        "plt.yticks([0.5,1,2,4,8,16,32],[0.5,1,2,4,8,16,32])\n",
        "plt.xlim([0,1])\n",
        "plt.xlabel(f\"fraction of '{mut_res}'\")\n",
        "plt.ylabel(\"rmsd\")\n",
        "plt.show()"
      ],
      "metadata": {
        "id": "0_vsx5Rvkc7v"
      },
      "execution_count": null,
      "outputs": []
    },
    {
      "cell_type": "code",
      "source": [
        "HTML(af_model.animate(dpi=100))"
      ],
      "metadata": {
        "id": "mE3nVAGUkVYu"
      },
      "execution_count": null,
      "outputs": []
    }
  ],
  "metadata": {
    "accelerator": "GPU",
    "colab": {
      "collapsed_sections": [
        "q4qiU9I0QHSz"
      ],
      "name": "design.ipynb",
      "provenance": [],
      "machine_shape": "hm",
      "gpuType": "A100",
      "include_colab_link": true
    },
    "kernelspec": {
      "display_name": "Python 3",
      "name": "python3"
    },
    "language_info": {
      "name": "python"
    }
  },
  "nbformat": 4,
  "nbformat_minor": 0
}