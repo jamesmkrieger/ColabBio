{
  "nbformat": 4,
  "nbformat_minor": 0,
  "metadata": {
    "colab": {
      "provenance": [],
      "authorship_tag": "ABX9TyO0DRcCJ2f62XjYkhjylpMx",
      "include_colab_link": true
    },
    "kernelspec": {
      "name": "python3",
      "display_name": "Python 3"
    },
    "language_info": {
      "name": "python"
    }
  },
  "cells": [
    {
      "cell_type": "markdown",
      "metadata": {
        "id": "view-in-github",
        "colab_type": "text"
      },
      "source": [
        "<a href=\"https://colab.research.google.com/github/sokrypton/ColabBio/blob/main/notebooks/get_sse.ipynb\" target=\"_parent\"><img src=\"https://colab.research.google.com/assets/colab-badge.svg\" alt=\"Open In Colab\"/></a>"
      ]
    },
    {
      "cell_type": "code",
      "source": [
        "#@title get secondary structure (SSE) from given PDB file\n",
        "#@markdown So far it seems the best solution is to steal code from biotite\n",
        "#@markdown which calculates the SSE of a peptide chain based on the P-SEA algorithm (Labesse 1997)\n",
        "# CODE FROM BIOKITE\n",
        "import numpy as np\n",
        "\n",
        "def vector_dot(v1,v2):\n",
        "    return (v1*v2).sum(axis=-1)\n",
        "\n",
        "def norm_vector(v):\n",
        "    factor = np.linalg.norm(v, axis=-1)\n",
        "    if isinstance(factor, np.ndarray):\n",
        "        v /= factor[..., np.newaxis]\n",
        "    else:\n",
        "        v /= factor\n",
        "    return v\n",
        "\n",
        "def coord(x):\n",
        "  return np.asarray(x)\n",
        "def displacement(atoms1, atoms2):\n",
        "    v1 = coord(atoms1)\n",
        "    v2 = coord(atoms2)\n",
        "    if len(v1.shape) <= len(v2.shape):\n",
        "        diff = v2 - v1\n",
        "    else:\n",
        "        diff = -(v1 - v2)\n",
        "    return diff\n",
        "def distance(atoms1, atoms2):\n",
        "    diff = displacement(atoms1, atoms2)\n",
        "    return np.sqrt(vector_dot(diff, diff))\n",
        "\n",
        "def angle(atoms1, atoms2, atoms3):\n",
        "    v1 = displacement(atoms1, atoms2)\n",
        "    v2 = displacement(atoms3, atoms2)\n",
        "    norm_vector(v1)\n",
        "    norm_vector(v2)\n",
        "    return np.arccos(vector_dot(v1,v2))\n",
        "\n",
        "def dihedral(atoms1, atoms2, atoms3, atoms4):\n",
        "    v1 = displacement(atoms1, atoms2)\n",
        "    v2 = displacement(atoms2, atoms3)\n",
        "    v3 = displacement(atoms3, atoms4)\n",
        "    norm_vector(v1)\n",
        "    norm_vector(v2)\n",
        "    norm_vector(v3)\n",
        "    \n",
        "    n1 = np.cross(v1, v2)\n",
        "    n2 = np.cross(v2, v3)\n",
        "    \n",
        "    # Calculation using atan2, to ensure the correct sign of the angle \n",
        "    x = vector_dot(n1,n2)\n",
        "    y = vector_dot(np.cross(n1,n2), v2)\n",
        "    return np.arctan2(y,x)\n",
        "\n",
        "def annotate_sse(ca_coord):\n",
        "  _radians_to_angle = 2*np.pi/360\n",
        "\n",
        "  _r_helix = ((89-12)*_radians_to_angle, (89+12)*_radians_to_angle)\n",
        "  _a_helix = ((50-20)*_radians_to_angle, (50+20)*_radians_to_angle)\n",
        "  _d2_helix = ((5.5-0.5), (5.5+0.5))\n",
        "  _d3_helix = ((5.3-0.5), (5.3+0.5))\n",
        "  _d4_helix = ((6.4-0.6), (6.4+0.6))\n",
        "\n",
        "  _r_strand = ((124-14)*_radians_to_angle, (124+14)*_radians_to_angle)\n",
        "  _a_strand = ((-180)*_radians_to_angle, (-125)*_radians_to_angle,\n",
        "              (145)*_radians_to_angle, (180)*_radians_to_angle)\n",
        "  _d2_strand = ((6.7-0.6), (6.7+0.6))\n",
        "  _d3_strand = ((9.9-0.9), (9.9+0.9))\n",
        "  _d4_strand = ((12.4-1.1), (12.4+1.1))\n",
        "\n",
        "  # Filter all CA atoms in the relevant chain.\n",
        "\n",
        "  d2i_coord = np.full(( len(ca_coord), 2, 3 ), np.nan)\n",
        "  d3i_coord = np.full(( len(ca_coord), 2, 3 ), np.nan)\n",
        "  d4i_coord = np.full(( len(ca_coord), 2, 3 ), np.nan)\n",
        "  ri_coord = np.full(( len(ca_coord), 3, 3 ), np.nan)\n",
        "  ai_coord = np.full(( len(ca_coord), 4, 3 ), np.nan)\n",
        "  \n",
        "  # The distances and angles are not defined for the entire interval,\n",
        "  # therefore the indices do not have the full range\n",
        "  # Values that are not defined are NaN\n",
        "  for i in range(1, len(ca_coord)-1):\n",
        "      d2i_coord[i] = (ca_coord[i-1], ca_coord[i+1])\n",
        "  for i in range(1, len(ca_coord)-2):\n",
        "      d3i_coord[i] = (ca_coord[i-1], ca_coord[i+2])\n",
        "  for i in range(1, len(ca_coord)-3):\n",
        "      d4i_coord[i] = (ca_coord[i-1], ca_coord[i+3])\n",
        "  for i in range(1, len(ca_coord)-1):\n",
        "      ri_coord[i] = (ca_coord[i-1], ca_coord[i], ca_coord[i+1])\n",
        "  for i in range(1, len(ca_coord)-2):\n",
        "      ai_coord[i] = (ca_coord[i-1], ca_coord[i],\n",
        "                      ca_coord[i+1], ca_coord[i+2])\n",
        "  \n",
        "  d2i = distance(d2i_coord[:,0], d2i_coord[:,1])\n",
        "  d3i = distance(d3i_coord[:,0], d3i_coord[:,1])\n",
        "  d4i = distance(d4i_coord[:,0], d4i_coord[:,1])\n",
        "  ri = angle(ri_coord[:,0], ri_coord[:,1], ri_coord[:,2])\n",
        "  ai = dihedral(ai_coord[:,0], ai_coord[:,1],\n",
        "                ai_coord[:,2], ai_coord[:,3])\n",
        "  \n",
        "  sse = np.full(len(ca_coord), \"c\", dtype=\"U1\")\n",
        "  \n",
        "  # Annotate helices\n",
        "  # Find CA that meet criteria for potential helices\n",
        "  is_pot_helix = np.zeros(len(sse), dtype=bool)\n",
        "  for i in range(len(sse)):\n",
        "      if (\n",
        "              d3i[i] >= _d3_helix[0] and d3i[i] <= _d3_helix[1]\n",
        "          and d4i[i] >= _d4_helix[0] and d4i[i] <= _d4_helix[1]\n",
        "          ) or (\n",
        "              ri[i] >= _r_helix[0] and ri[i] <= _r_helix[1]\n",
        "          and ai[i] >= _a_helix[0] and ai[i] <= _a_helix[1]\n",
        "          ):\n",
        "              is_pot_helix[i] = True\n",
        "  # Real helices are 5 consecutive helix elements\n",
        "  is_helix = np.zeros(len(sse), dtype=bool)\n",
        "  counter = 0\n",
        "  for i in range(len(sse)):\n",
        "      if is_pot_helix[i]:\n",
        "          counter += 1\n",
        "      else:\n",
        "          if counter >= 5:\n",
        "              is_helix[i-counter : i] = True\n",
        "          counter = 0\n",
        "  # Extend the helices by one at each end if CA meets extension criteria\n",
        "  i = 0\n",
        "  while i < len(sse):\n",
        "      if is_helix[i]:\n",
        "          sse[i] = \"a\"\n",
        "          if (\n",
        "              d3i[i-1] >= _d3_helix[0] and d3i[i-1] <= _d3_helix[1]\n",
        "              ) or (\n",
        "              ri[i-1] >= _r_helix[0] and ri[i-1] <= _r_helix[1]\n",
        "              ):\n",
        "                  sse[i-1] = \"a\"\n",
        "          sse[i] = \"a\"\n",
        "          if (\n",
        "              d3i[i+1] >= _d3_helix[0] and d3i[i+1] <= _d3_helix[1]\n",
        "              ) or (\n",
        "              ri[i+1] >= _r_helix[0] and ri[i+1] <= _r_helix[1]\n",
        "              ):\n",
        "                  sse[i+1] = \"a\"\n",
        "      i += 1\n",
        "  \n",
        "  # Annotate sheets\n",
        "  # Find CA that meet criteria for potential strands\n",
        "  is_pot_strand = np.zeros(len(sse), dtype=bool)\n",
        "  for i in range(len(sse)):\n",
        "      if (    d2i[i] >= _d2_strand[0] and d2i[i] <= _d2_strand[1]\n",
        "          and d3i[i] >= _d3_strand[0] and d3i[i] <= _d3_strand[1]\n",
        "          and d4i[i] >= _d4_strand[0] and d4i[i] <= _d4_strand[1]\n",
        "          ) or (\n",
        "              ri[i] >= _r_strand[0] and ri[i] <= _r_strand[1]\n",
        "          and (   (ai[i] >= _a_strand[0] and ai[i] <= _a_strand[1])\n",
        "                or (ai[i] >= _a_strand[2] and ai[i] <= _a_strand[3]))\n",
        "          ):\n",
        "              is_pot_strand[i] = True\n",
        "  # Real strands are 5 consecutive strand elements,\n",
        "  # or shorter fragments of at least 3 consecutive strand residues,\n",
        "  # if they are in hydrogen bond proximity to 5 other residues\n",
        "  pot_strand_coord = ca_coord[is_pot_strand]\n",
        "  is_strand = np.zeros(len(sse), dtype=bool)\n",
        "  counter = 0\n",
        "  contacts = 0\n",
        "  for i in range(len(sse)):\n",
        "      if is_pot_strand[i]:\n",
        "          counter += 1\n",
        "          coord = ca_coord[i]\n",
        "          for strand_coord in ca_coord:\n",
        "              dist = distance(coord, strand_coord)\n",
        "              if dist >= 4.2 and dist <= 5.2:\n",
        "                  contacts += 1\n",
        "      else:\n",
        "          if counter >= 4:\n",
        "              is_strand[i-counter : i] = True\n",
        "          elif counter == 3 and contacts >= 5:\n",
        "              is_strand[i-counter : i] = True\n",
        "          counter = 0\n",
        "          contacts = 0\n",
        "  # Extend the strands by one at each end if CA meets extension criteria\n",
        "  i = 0\n",
        "  while i < len(sse):\n",
        "      if is_strand[i]:\n",
        "          sse[i] = \"b\"\n",
        "          if d3i[i-1] >= _d3_strand[0] and d3i[i-1] <= _d3_strand[1]:\n",
        "              sse[i-1] = \"b\"\n",
        "          sse[i] = \"b\"\n",
        "          if d3i[i+1] >= _d3_strand[0] and d3i[i+1] <= _d3_strand[1]:\n",
        "              sse[i+1] = \"b\"\n",
        "      i += 1\n",
        "  \n",
        "  return sse\n",
        "\n",
        "def get_ca(pdb_filename, chain=\"A\"):\n",
        "  '''\n",
        "  input:  x = PDB filename\n",
        "          atoms = atoms to extract (optional)\n",
        "  output: (length, coords=(x,y,z))\n",
        "  '''\n",
        "  n, xyz = None, []\n",
        "  seen = []\n",
        "  seq = []\n",
        "  for line in open(pdb_filename,\"r\"):\n",
        "    line = line.rstrip()\n",
        "    if line[:6] == \"HETATM\" and line[17:17+3] == \"MSE\":\n",
        "      line = line.replace(\"HETATM\",\"ATOM  \")\n",
        "      line = line.replace(\"MSE\",\"MET\")\n",
        "    if line[:4] == \"ATOM\":\n",
        "      atom = line[12:12+4].strip()\n",
        "      if atom == \"CA\":\n",
        "        resn = int(line[22:22+5])\n",
        "        resi = line[17:17+3]\n",
        "        ch = line[21:22]\n",
        "        if ch == chain and resn not in seen:\n",
        "          x = float(line[30:30+8])\n",
        "          y = float(line[38:38+8])\n",
        "          z = float(line[46:46+8])\n",
        "          # extract coordiantes\n",
        "          if n is None:\n",
        "            n = resn\n",
        "          while n < resn:\n",
        "            xyz.append([np.nan,np.nan,np.nan])\n",
        "            seen.append(n)\n",
        "            seq.append(\"NAN\")\n",
        "            n += 1\n",
        "          if n == resn:\n",
        "            xyz.append([x,y,z])\n",
        "            seen.append(n)\n",
        "            seq.append(resi)\n",
        "            n += 1\n",
        "  return np.array(xyz), np.array(seq)"
      ],
      "metadata": {
        "cellView": "form",
        "id": "tdMV3lyQY34T"
      },
      "execution_count": 1,
      "outputs": []
    },
    {
      "cell_type": "code",
      "source": [
        "annotate_sse(np.random.normal(size=(100,3)))"
      ],
      "metadata": {
        "colab": {
          "base_uri": "https://localhost:8080/"
        },
        "id": "DH6nO8pKZ6kP",
        "outputId": "d61c160f-f90b-4b27-ec5d-d90f14685f28"
      },
      "execution_count": 15,
      "outputs": [
        {
          "output_type": "execute_result",
          "data": {
            "text/plain": [
              "array(['c', 'c', 'c', 'c', 'c', 'c', 'c', 'c', 'c', 'c', 'c', 'c', 'c',\n",
              "       'c', 'c', 'c', 'c', 'c', 'c', 'c', 'c', 'c', 'c', 'c', 'c', 'c',\n",
              "       'c', 'c', 'c', 'c', 'c', 'c', 'c', 'c', 'c', 'c', 'c', 'c', 'c',\n",
              "       'c', 'c', 'c', 'c', 'c', 'c', 'c', 'c', 'c', 'c', 'c', 'c', 'c',\n",
              "       'c', 'c', 'c', 'c', 'c', 'c', 'c', 'c', 'c', 'c', 'c', 'c', 'c',\n",
              "       'c', 'c', 'c', 'c', 'c', 'c', 'c', 'c', 'c', 'c', 'c', 'c', 'c',\n",
              "       'c', 'c', 'c', 'c', 'c', 'c', 'c', 'c', 'c', 'c', 'c', 'c', 'c',\n",
              "       'c', 'c', 'c', 'c', 'c', 'c', 'c', 'c', 'c'], dtype='<U1')"
            ]
          },
          "metadata": {},
          "execution_count": 15
        }
      ]
    },
    {
      "cell_type": "code",
      "source": [
        "!wget -qnc https://files.rcsb.org/view/1QYS.pdb"
      ],
      "metadata": {
        "id": "XoApMMKebtfY"
      },
      "execution_count": 16,
      "outputs": []
    },
    {
      "cell_type": "code",
      "source": [
        "ca_coords, seq = get_ca(\"1QYS.pdb\",chain=\"A\")"
      ],
      "metadata": {
        "id": "PZYUMiqKbwPH"
      },
      "execution_count": 17,
      "outputs": []
    },
    {
      "cell_type": "code",
      "source": [
        "annotate_sse(ca_coords)"
      ],
      "metadata": {
        "colab": {
          "base_uri": "https://localhost:8080/"
        },
        "id": "1n7pX4w8b0BU",
        "outputId": "3cfdda5b-fa0c-4a6a-95fa-b69d1c9796b9"
      },
      "execution_count": 18,
      "outputs": [
        {
          "output_type": "execute_result",
          "data": {
            "text/plain": [
              "array(['c', 'b', 'b', 'b', 'b', 'b', 'b', 'b', 'b', 'c', 'c', 'c', 'b',\n",
              "       'b', 'b', 'b', 'b', 'b', 'b', 'b', 'b', 'c', 'c', 'a', 'a', 'a',\n",
              "       'a', 'a', 'a', 'a', 'a', 'a', 'a', 'a', 'a', 'a', 'a', 'a', 'a',\n",
              "       'a', 'a', 'c', 'c', 'c', 'b', 'b', 'b', 'b', 'b', 'b', 'b', 'c',\n",
              "       'c', 'c', 'a', 'a', 'a', 'a', 'a', 'a', 'a', 'a', 'a', 'a', 'a',\n",
              "       'a', 'a', 'a', 'a', 'a', 'a', 'a', 'c', 'c', 'c', 'b', 'b', 'b',\n",
              "       'b', 'b', 'b', 'c', 'c', 'c', 'b', 'b', 'b', 'b', 'b', 'b', 'c',\n",
              "       'c'], dtype='<U1')"
            ]
          },
          "metadata": {},
          "execution_count": 18
        }
      ]
    },
    {
      "cell_type": "code",
      "source": [
        "seq"
      ],
      "metadata": {
        "colab": {
          "base_uri": "https://localhost:8080/"
        },
        "id": "nF1Jl-eWb6Iu",
        "outputId": "a8a25a62-7f65-4c11-b4a8-f1512c11ae5c"
      },
      "execution_count": 19,
      "outputs": [
        {
          "output_type": "execute_result",
          "data": {
            "text/plain": [
              "array(['ASP', 'ILE', 'GLN', 'VAL', 'GLN', 'VAL', 'ASN', 'ILE', 'ASP',\n",
              "       'ASP', 'ASN', 'GLY', 'LYS', 'ASN', 'PHE', 'ASP', 'TYR', 'THR',\n",
              "       'TYR', 'THR', 'VAL', 'THR', 'THR', 'GLU', 'SER', 'GLU', 'LEU',\n",
              "       'GLN', 'LYS', 'VAL', 'LEU', 'ASN', 'GLU', 'LEU', 'MET', 'ASP',\n",
              "       'TYR', 'ILE', 'LYS', 'LYS', 'GLN', 'GLY', 'ALA', 'LYS', 'ARG',\n",
              "       'VAL', 'ARG', 'ILE', 'SER', 'ILE', 'THR', 'ALA', 'ARG', 'THR',\n",
              "       'LYS', 'LYS', 'GLU', 'ALA', 'GLU', 'LYS', 'PHE', 'ALA', 'ALA',\n",
              "       'ILE', 'LEU', 'ILE', 'LYS', 'VAL', 'PHE', 'ALA', 'GLU', 'LEU',\n",
              "       'GLY', 'TYR', 'ASN', 'ASP', 'ILE', 'ASN', 'VAL', 'THR', 'PHE',\n",
              "       'ASP', 'GLY', 'ASP', 'THR', 'VAL', 'THR', 'VAL', 'GLU', 'GLY',\n",
              "       'GLN', 'LEU'], dtype='<U3')"
            ]
          },
          "metadata": {},
          "execution_count": 19
        }
      ]
    },
    {
      "cell_type": "code",
      "source": [],
      "metadata": {
        "id": "C_AJ96--f5De"
      },
      "execution_count": null,
      "outputs": []
    }
  ]
}