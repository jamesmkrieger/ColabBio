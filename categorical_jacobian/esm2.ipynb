{
  "nbformat": 4,
  "nbformat_minor": 0,
  "metadata": {
    "colab": {
      "provenance": [],
      "include_colab_link": true
    },
    "kernelspec": {
      "name": "python3",
      "display_name": "Python 3"
    },
    "language_info": {
      "name": "python"
    },
    "accelerator": "GPU"
  },
  "cells": [
    {
      "cell_type": "markdown",
      "metadata": {
        "id": "view-in-github",
        "colab_type": "text"
      },
      "source": [
        "<a href=\"https://colab.research.google.com/github/sokrypton/ColabBio/blob/main/categorical_jacobian/esm2.ipynb\" target=\"_parent\"><img src=\"https://colab.research.google.com/assets/colab-badge.svg\" alt=\"Open In Colab\"/></a>"
      ]
    },
    {
      "cell_type": "markdown",
      "source": [
        "#**get Categorical Jacobian from ESM2**\n",
        "##(aka. extract conservation and coevolution for your favorite protein)"
      ],
      "metadata": {
        "id": "wqjacq79TckC"
      }
    },
    {
      "cell_type": "code",
      "metadata": {
        "id": "DtRKmskxgHfs",
        "cellView": "form"
      },
      "source": [
        "%%time\n",
        "#@markdown ##setup model\n",
        "model_name = \"esm2_t33_650M_UR50D\" # @param [\"esm2_t48_15B_UR50D\",\"esm2_t36_3B_UR50D\",\"esm2_t33_650M_UR50D\",\"esm2_t30_150M_UR50D\",\"esm2_t12_35M_UR50D\",\"esm2_t6_8M_UR50D\",\"esm1b_t33_650M_UR50S\"]\n",
        "# this step will take ~3mins\n",
        "import torch\n",
        "import os\n",
        "if not os.path.isfile(\"utils.py\"):\n",
        "  os.system(\"wget -qnc https://raw.githubusercontent.com/sokrypton/ColabBio/main/categorical_jacobian/utils.py\")\n",
        "  os.system(\"apt-get install aria2 -qq\")\n",
        "  os.system(\"mkdir -p /root/.cache/torch/hub/checkpoints/\")\n",
        "\n",
        "import matplotlib.pyplot as plt\n",
        "import numpy as np\n",
        "from scipy.special import softmax\n",
        "\n",
        "import pandas as pd\n",
        "import numpy as np\n",
        "import bokeh.plotting\n",
        "bokeh.io.output_notebook()\n",
        "from bokeh.models import BasicTicker, PrintfTickFormatter\n",
        "from bokeh.palettes import viridis, RdBu\n",
        "from bokeh.transform import linear_cmap\n",
        "from bokeh.plotting import figure, show\n",
        "\n",
        "from matplotlib.colors import to_hex\n",
        "cmap = plt.colormaps[\"bwr_r\"]\n",
        "bwr_r = [to_hex(cmap(i)) for i in np.linspace(0, 1, 256)]\n",
        "cmap = plt.colormaps[\"gray_r\"]\n",
        "gray = [to_hex(cmap(i)) for i in np.linspace(0, 1, 256)]\n",
        "\n",
        "def pssm_to_dataframe(pssm, esm_alphabet):\n",
        "  sequence_length = pssm.shape[0]\n",
        "  idx = [str(i) for i in np.arange(1, sequence_length + 1)]\n",
        "  df = pd.DataFrame(pssm, index=idx, columns=list(esm_alphabet))\n",
        "  df = df.stack().reset_index()\n",
        "  df.columns = ['Position', 'Amino Acid', 'Probability']\n",
        "  return df\n",
        "\n",
        "def contact_to_dataframe(con):\n",
        "  sequence_length = con.shape[0]\n",
        "  idx = [str(i) for i in np.arange(1, sequence_length + 1)]\n",
        "  df = pd.DataFrame(con, index=idx, columns=idx)\n",
        "  df = df.stack().reset_index()\n",
        "  df.columns = ['i', 'j', 'value']\n",
        "  return df\n",
        "\n",
        "def pair_to_dataframe(pair,esm_alphabet):\n",
        "  sequence_length = pair.shape[0]\n",
        "  df = pd.DataFrame(pair, index=list(esm_alphabet), columns=list(esm_alphabet))\n",
        "  df = df.stack().reset_index()\n",
        "  df.columns = ['aa_i', 'aa_j', 'value']\n",
        "  return df\n",
        "\n",
        "from utils import *\n",
        "import tqdm.notebook\n",
        "\n",
        "TQDM_BAR_FORMAT = '{l_bar}{bar}| {n_fmt}/{total_fmt} [elapsed: {elapsed} remaining: {remaining}]'\n",
        "DEVICE = torch.device('cuda:0' if torch.cuda.is_available() else 'cpu')\n",
        "\n",
        "def load_model(model_name=\"esm2_t36_3B_UR50D\"):\n",
        "  if not os.path.isfile(f\"https://dl.fbaipublicfiles.com/fair-esm/models/{model_name}.pt\"):\n",
        "    os.system(f\"aria2c -q -x 16 -d /root/.cache/torch/hub/checkpoints/ https://dl.fbaipublicfiles.com/fair-esm/models/{model_name}.pt\")\n",
        "    os.system(f\"aria2c -q -x 16 -d /root/.cache/torch/hub/checkpoints/ https://dl.fbaipublicfiles.com/fair-esm/regression/{model_name}-contact-regression.pt\")\n",
        "  model, alphabet = torch.hub.load(\"facebookresearch/esm:main\", model_name)\n",
        "  model = model.to(DEVICE)\n",
        "  model = model.eval()\n",
        "  return model, alphabet\n",
        "\n",
        "def get_logits(seq, p=1):\n",
        "  x,ln = alphabet.get_batch_converter()([(None,seq)])[-1],len(seq)\n",
        "  if p is None: p = ln\n",
        "  with torch.no_grad():\n",
        "    def f(x):\n",
        "      fx = model(x)[\"logits\"][:,1:(ln+1),4:24]\n",
        "      return fx\n",
        "    logits = np.zeros((ln,20))\n",
        "    with tqdm.notebook.tqdm(total=ln, bar_format=TQDM_BAR_FORMAT) as pbar:\n",
        "      for n in range(0,ln,p):\n",
        "        m = min(n+p,ln)\n",
        "        x_h = torch.tile(torch.clone(x),[m-n,1])\n",
        "        for i in range(m-n):\n",
        "          x_h[i,n+i+1] = alphabet.mask_idx\n",
        "        fx_h = f(x_h.to(DEVICE))\n",
        "        for i in range(m-n):\n",
        "          logits[n+i] = fx_h[i,n+i].cpu().numpy()\n",
        "        pbar.update(m-n)\n",
        "    return logits\n",
        "\n",
        "def get_categorical_jacobian(seq):\n",
        "  # ∂in/∂out\n",
        "  x,ln = alphabet.get_batch_converter()([(\"seq\",seq)])[-1],len(seq)\n",
        "  with torch.no_grad():\n",
        "    f = lambda x: model(x)[\"logits\"][...,1:(ln+1),4:24].cpu().numpy()\n",
        "    fx = f(x.to(DEVICE))[0]\n",
        "    x = torch.tile(x,[20,1]).to(DEVICE)\n",
        "    fx_h = np.zeros((ln,20,ln,20))\n",
        "    with tqdm.notebook.tqdm(total=ln, bar_format=TQDM_BAR_FORMAT) as pbar:\n",
        "      for n in range(ln): # for each position\n",
        "        x_h = torch.clone(x)\n",
        "        x_h[:,n+1] = torch.arange(4,24) # mutate to all 20 aa\n",
        "        fx_h[n] = f(x_h)\n",
        "        pbar.update(1)\n",
        "    # note: direction here differs from manuscript\n",
        "    # positive = good\n",
        "    # negative = bad\n",
        "    jac = fx_h-fx\n",
        "  # center & symmetrize\n",
        "  for i in range(4): jac -= jac.mean(i,keepdims=True)\n",
        "  jac = (jac + jac.transpose(2,3,0,1))/2\n",
        "\n",
        "  return jac\n",
        "\n",
        "model, alphabet = load_model(model_name)\n",
        "esm_alphabet_len = len(alphabet.all_toks)\n",
        "esm_alphabet = list(\"\".join(alphabet.all_toks[4:24]))\n",
        "ALPHABET = \"AFILVMWYDEKRHNQSTGPC\"\n",
        "ALPHABET_map = [esm_alphabet.index(a) for a in ALPHABET]"
      ],
      "execution_count": null,
      "outputs": []
    },
    {
      "cell_type": "code",
      "source": [
        "#@markdown ##enter sequence\n",
        "\n",
        "sequence = \"MKAKELREKSVEELNTELLNLLREQFNLRMQAASGQLQQSHLLKQVRRDVARVKTLLNEKAGA\" # @param {type:\"string\"}\n",
        "sequence = sequence.upper()\n",
        "sequence = ''.join([i for i in sequence if i.isalpha()])\n",
        "\n",
        "os.makedirs(\"output\",exist_ok=True)\n",
        "with open(\"output/README.txt\",\"w\") as handle:\n",
        "  handle.write(\"conservation_logits.txt = (L, A) matrix\\n\")\n",
        "  handle.write(\"coevolution.txt = (L, L) matrix\\n\")\n",
        "  handle.write(\"jac.npy = ((L*L-L)/2, A, A) tensor\\n\")\n",
        "  handle.write(\"jac index can be recreated with np.triu_indices(L,1)\\n\")\n",
        "  handle.write(f\"[A]lphabet: {ALPHABET}\\n\")\n",
        "  handle.write(f\"sequence: {sequence}\\n\")"
      ],
      "metadata": {
        "cellView": "form",
        "id": "0iY6qZdr7NLq"
      },
      "execution_count": null,
      "outputs": []
    },
    {
      "cell_type": "code",
      "source": [
        "#@markdown ##compute conservation\n",
        "\n",
        "logits = get_logits(sequence, p=20)[:,ALPHABET_map]\n",
        "np.savetxt(f\"output/conservation_logits_{model_name}.txt\",logits)\n",
        "pssm = softmax(logits,-1)\n",
        "df = pssm_to_dataframe(pssm, ALPHABET)\n",
        "\n",
        "# plot pssm\n",
        "num_colors = 256  # You can adjust this number\n",
        "palette = viridis(256)\n",
        "TOOLS = \"hover,save,pan,box_zoom,reset,wheel_zoom\"\n",
        "p = figure(title=\"CONSERVATION\",\n",
        "           x_range=[str(x) for x in range(1,len(sequence)+1)],\n",
        "           y_range=list(ALPHABET)[::-1],\n",
        "           width=900, height=400,\n",
        "           tools=TOOLS, toolbar_location='below',\n",
        "           tooltips=[('Position', '@Position'), ('Amino Acid', '@{Amino Acid}'), ('Probability', '@Probability')])\n",
        "\n",
        "r = p.rect(x=\"Position\", y=\"Amino Acid\", width=1, height=1, source=df,\n",
        "           fill_color=linear_cmap('Probability', palette, low=0, high=1),\n",
        "           line_color=None)\n",
        "p.xaxis.visible = False  # Hide the x-axis\n",
        "show(p)"
      ],
      "metadata": {
        "id": "vcWEjQApY5Fk",
        "cellView": "form"
      },
      "execution_count": null,
      "outputs": []
    },
    {
      "cell_type": "code",
      "source": [
        "#@markdown ##compute coevolution\n",
        "\n",
        "jac = get_categorical_jacobian(sequence)[:,ALPHABET_map][...,ALPHABET_map]\n",
        "contacts = get_contacts(jac)\n",
        "np.savetxt(f\"output/coevolution_{model_name}.txt\",contacts)\n",
        "i,j = np.triu_indices(len(sequence),1)\n",
        "np.save(f\"output/jac_{model_name}.npy\",jac[i,:,j,:].astype(np.float16))\n",
        "\n",
        "df = contact_to_dataframe(contacts)\n",
        "TOOLS = \"hover,save,pan,box_zoom,reset,wheel_zoom\"\n",
        "p = figure(title=\"COEVOLUTION\",\n",
        "          x_range=[str(x) for x in range(1,len(sequence)+1)],\n",
        "          y_range=[str(x) for x in range(1,len(sequence)+1)][::-1],\n",
        "          width=800, height=800,\n",
        "          tools=TOOLS, toolbar_location='below',\n",
        "          tooltips=[('i', '@i'), ('j', '@j'), ('value', '@value')])\n",
        "\n",
        "r = p.rect(x=\"i\", y=\"j\", width=1, height=1, source=df,\n",
        "          fill_color=linear_cmap('value', gray, low=df.value.min(), high=df.value.max()),\n",
        "          line_color=None)\n",
        "p.xaxis.visible = False  # Hide the x-axis\n",
        "p.yaxis.visible = False  # Hide the x-axis\n",
        "show(p)"
      ],
      "metadata": {
        "id": "q3vDgFx6Y6xu",
        "cellView": "form"
      },
      "execution_count": null,
      "outputs": []
    },
    {
      "cell_type": "code",
      "source": [
        "#@markdown ##show table of top covarying positions\n",
        "from google.colab import data_table\n",
        "\n",
        "sub_df = df[df[\"j\"]>df[\"i\"]].sort_values('value',ascending=False)\n",
        "data_table.DataTable(sub_df, include_index=False, num_rows_per_page=20, min_width=10)"
      ],
      "metadata": {
        "cellView": "form",
        "id": "8qn3WWtho8VN"
      },
      "execution_count": null,
      "outputs": []
    },
    {
      "cell_type": "code",
      "source": [
        "#@markdown ##select pair of residues to investigate\n",
        "#@markdown Note: 1-indexed (first position is 1)\n",
        "\n",
        "position_i = 15 # @param {type:\"integer\"}\n",
        "position_j = 57 # @param {type:\"integer\"}\n",
        "i = position_i - 1\n",
        "j = position_j - 1\n",
        "df = pair_to_dataframe(jac[i,:,j,:], ALPHABET)\n",
        "\n",
        "# plot pssm\n",
        "TOOLS = \"hover,save,pan,box_zoom,reset,wheel_zoom\"\n",
        "p = figure(title=f\"coevolution between {position_i} {position_j}\",\n",
        "           x_range=list(ALPHABET),\n",
        "           y_range=list(ALPHABET)[::-1],\n",
        "           width=400, height=400,\n",
        "           tools=TOOLS, toolbar_location='below',\n",
        "           tooltips=[('aa_i', '@aa_i'), ('aa_j', '@aa_j'), ('value', '@value')])\n",
        "p.xaxis.axis_label = f\"{sequence[i]}{position_i}\"\n",
        "p.yaxis.axis_label = f\"{sequence[j]}{position_j}\"\n",
        "\n",
        "r = p.rect(x=\"aa_i\", y=\"aa_j\", width=1, height=1, source=df,\n",
        "           fill_color=linear_cmap('value', bwr_r, low=-3.0, high=3.0),\n",
        "           line_color=None, dilate=True)\n",
        "show(p)"
      ],
      "metadata": {
        "id": "t-0NBjgxXI1Y",
        "cellView": "form"
      },
      "execution_count": null,
      "outputs": []
    },
    {
      "cell_type": "code",
      "source": [
        "#@title download results (optional)\n",
        "from google.colab import files\n",
        "os.system(f\"zip -r output.zip output/\")\n",
        "files.download(f'output.zip')"
      ],
      "metadata": {
        "cellView": "form",
        "id": "8HZ7bpwg63bN"
      },
      "execution_count": null,
      "outputs": []
    }
  ]
}
