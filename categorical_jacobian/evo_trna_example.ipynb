{
  "cells": [
    {
      "cell_type": "markdown",
      "metadata": {
        "id": "view-in-github",
        "colab_type": "text"
      },
      "source": [
        "<a href=\"https://colab.research.google.com/github/sokrypton/ColabBio/blob/main/categorical_jacobian/evo_trna_example.ipynb\" target=\"_parent\"><img src=\"https://colab.research.google.com/assets/colab-badge.svg\" alt=\"Open In Colab\"/></a>"
      ]
    },
    {
      "cell_type": "code",
      "execution_count": null,
      "metadata": {
        "id": "shVaaYr3P2CC"
      },
      "outputs": [],
      "source": [
        "%%bash\n",
        "pip -q install evo-model"
      ]
    },
    {
      "cell_type": "code",
      "execution_count": 2,
      "metadata": {
        "id": "9oDlvG_HPhPJ"
      },
      "outputs": [],
      "source": [
        "import os\n",
        "DEVICE = 'cuda:0'\n",
        "TQDM_BAR_FORMAT = '{l_bar}{bar}| {n_fmt}/{total_fmt} [elapsed: {elapsed} remaining: {remaining}]'\n",
        "from tqdm.notebook import tqdm\n",
        "import numpy as np"
      ]
    },
    {
      "cell_type": "code",
      "execution_count": null,
      "metadata": {
        "id": "l83uNsrxPwex"
      },
      "outputs": [],
      "source": [
        "from evo import Evo\n",
        "import torch\n",
        "import numpy as np\n",
        "\n",
        "evo_model = Evo('evo-1-8k-base')\n",
        "model, tokenizer = evo_model.model, evo_model.tokenizer\n",
        "DEVICE = 'cuda:0'\n",
        "model.to(DEVICE)\n",
        "model.eval()\n",
        "print(\"loaded\")"
      ]
    },
    {
      "cell_type": "code",
      "execution_count": null,
      "metadata": {
        "id": "pFoJojT8P_LK"
      },
      "outputs": [],
      "source": [
        "def reverse_complement(dna_sequence):\n",
        "  complement_dict = {'A': 'T', 'T': 'A', 'C': 'G', 'G': 'C'}\n",
        "  # Reverse the DNA sequence\n",
        "  reversed_sequence = dna_sequence[::-1]\n",
        "  # Replace each nucleotide with its complement\n",
        "  reverse_complement_sequence = ''.join([complement_dict[nucleotide] for nucleotide in reversed_sequence])\n",
        "  return reverse_complement_sequence\n",
        "\n",
        "def get_categorical_jacobian(input_ids, input_ids_rev=None):\n",
        "  nuc_tokens = (65,67,71,84) # (A,C,G,T)\n",
        "  with torch.no_grad():\n",
        "    f = lambda x:model(x)[0][...,:-1,nuc_tokens].cpu().detach().float().numpy()\n",
        "\n",
        "    x = torch.clone(input_ids)\n",
        "    ln = x.shape[1] - 1\n",
        "\n",
        "    fx = f(x.to(DEVICE))[0]\n",
        "    x = torch.tile(x,[4,1]).to(DEVICE)\n",
        "\n",
        "    if input_ids_rev is not None:\n",
        "      x_rev = torch.clone(input_ids_rev)\n",
        "      fx_rev = f(x_rev.to(DEVICE))[0]\n",
        "      fx += fx_rev[::-1,::-1]\n",
        "      x_rev = torch.tile(x_rev,[4,1]).to(DEVICE)\n",
        "    else:\n",
        "      x_rev = None\n",
        "\n",
        "    fx_h = np.zeros((ln,4,ln,4),dtype=np.float32)\n",
        "    with tqdm(total=ln, bar_format=TQDM_BAR_FORMAT) as pbar:\n",
        "      for n in range(ln): # for each position\n",
        "        x_h = torch.clone(x)\n",
        "        x_h[:,n+1] = torch.tensor(nuc_tokens)\n",
        "        fx_h[n] = f(x_h)\n",
        "        if x_rev is not None:\n",
        "          x_rev_h = torch.clone(x_rev)\n",
        "          x_rev_h[:,-(1+n)] = torch.tensor(nuc_tokens)\n",
        "          fx_rev_h = f(x_rev_h)\n",
        "          fx_h[n] += fx_rev_h[::-1,::-1,::-1]\n",
        "        pbar.update(1)\n",
        "    jac = fx_h-fx\n",
        "  return jac"
      ]
    },
    {
      "cell_type": "code",
      "execution_count": null,
      "metadata": {
        "id": "RZUERRjdsl2k"
      },
      "outputs": [],
      "source": [
        "# TRNA sequence\n",
        "SEQ = \"GGUGGGGUUC CCGAGCGGCC AAAGGGAGCA GACUGUAAAU CUGCCGUCAU CGACUUCGAA GGUUCGAAUC CUUCCCCCAC CACCA\"\n",
        "SEQ = SEQ.replace(\" \",\"\").replace(\"U\",\"T\")"
      ]
    },
    {
      "cell_type": "code",
      "execution_count": null,
      "metadata": {
        "id": "79O1kU7bTvpZ"
      },
      "outputs": [],
      "source": [
        "input_ids = torch.tensor(\n",
        "    [tokenizer.eod_id] + tokenizer.tokenize(SEQ),\n",
        "    dtype=torch.int,\n",
        ").to(DEVICE).unsqueeze(0)\n",
        "\n",
        "input_ids_rev = torch.tensor(\n",
        "    [tokenizer.eod_id] + tokenizer.tokenize(reverse_complement(SEQ)),\n",
        "    dtype=torch.int,\n",
        ").to(DEVICE).unsqueeze(0)"
      ]
    },
    {
      "cell_type": "code",
      "execution_count": null,
      "metadata": {
        "colab": {
          "base_uri": "https://localhost:8080/",
          "height": 49,
          "referenced_widgets": [
            "2a5c52825968494a99b6decc9eff6164",
            "d9f7409ae7bf47f09f269cd0b29f93e7",
            "d01d88ef7e554006894c23e9c0e3edb8",
            "49883e12cda24c468a49c7447ea13ccd",
            "7865c522b67249239b9d1c72ea610a09",
            "04acac21b18f4ef585a8226f8a5c09f2",
            "6fb5bbfbd43a484aa11371f5cfdf2181",
            "aa484b7acc634516ab18d724d3358ed7",
            "5037834acab749d99432ea8654ede2d7",
            "b842dd1c905e43e4b76d204810a4efc3",
            "876c3208430a4a5aaa1b054480d2e99a"
          ]
        },
        "id": "llHkmkieTyOb",
        "outputId": "37a85a5a-5e00-406d-cf4e-7485d81b9fe7"
      },
      "outputs": [
        {
          "output_type": "display_data",
          "data": {
            "text/plain": [
              "  0%|          | 0/85 [elapsed: 00:00 remaining: ?]"
            ],
            "application/vnd.jupyter.widget-view+json": {
              "version_major": 2,
              "version_minor": 0,
              "model_id": "2a5c52825968494a99b6decc9eff6164"
            }
          },
          "metadata": {}
        }
      ],
      "source": [
        "jac_trna_control_both = get_categorical_jacobian(input_ids, input_ids_rev)"
      ]
    },
    {
      "cell_type": "code",
      "source": [
        "l2n = lambda x: np.sqrt(np.square(x).sum((1,3)))"
      ],
      "metadata": {
        "id": "esOgTyt5iw_m"
      },
      "execution_count": null,
      "outputs": []
    },
    {
      "cell_type": "code",
      "source": [
        "import matplotlib.pyplot as plt\n",
        "plt.figure(figsize=(5,5),dpi=200)\n",
        "plt.imshow(l2n(jac_trna_control_both), cmap=\"gray_r\")\n",
        "plt.show()"
      ],
      "metadata": {
        "colab": {
          "base_uri": "https://localhost:8080/",
          "height": 880
        },
        "id": "u8MqE_Hnitox",
        "outputId": "416d58af-3d3e-4433-de24-06e97c644a64"
      },
      "execution_count": null,
      "outputs": [
        {
          "output_type": "display_data",
          "data": {
            "text/plain": [
              "<Figure size 1000x1000 with 1 Axes>"
            ],
            "image/png": "[encoded data removed]"
          },
          "metadata": {}
        }
      ]
    },
    {
      "cell_type": "code",
      "source": [],
      "metadata": {
        "id": "unnPgruSnOWU"
      },
      "execution_count": null,
      "outputs": []
    }
  ],
  "metadata": {
    "accelerator": "GPU",
    "colab": {
      "gpuType": "A100",
      "provenance": [],
      "mount_file_id": "1gaZpFqeK3pkFYUYB7VWpYSkiqeEebHKa",
      "authorship_tag": "ABX9TyOG+fBucAX4R5v7ZpjrTlO5",
      "include_colab_link": true
    },
    "kernelspec": {
      "display_name": "Python 3",
      "name": "python3"
    },
    "language_info": {
      "name": "python"
    },
    "widgets": {
      "application/vnd.jupyter.widget-state+json": {
        "2a5c52825968494a99b6decc9eff6164": {
          "model_module": "@jupyter-widgets/controls",
          "model_name": "HBoxModel",
          "model_module_version": "1.5.0",
          "state": {
            "_dom_classes": [],
            "_model_module": "@jupyter-widgets/controls",
            "_model_module_version": "1.5.0",
            "_model_name": "HBoxModel",
            "_view_count": null,
            "_view_module": "@jupyter-widgets/controls",
            "_view_module_version": "1.5.0",
            "_view_name": "HBoxView",
            "box_style": "",
            "children": [
              "IPY_MODEL_d9f7409ae7bf47f09f269cd0b29f93e7",
              "IPY_MODEL_d01d88ef7e554006894c23e9c0e3edb8",
              "IPY_MODEL_49883e12cda24c468a49c7447ea13ccd"
            ],
            "layout": "IPY_MODEL_7865c522b67249239b9d1c72ea610a09"
          }
        },
        "d9f7409ae7bf47f09f269cd0b29f93e7": {
          "model_module": "@jupyter-widgets/controls",
          "model_name": "HTMLModel",
          "model_module_version": "1.5.0",
          "state": {
            "_dom_classes": [],
            "_model_module": "@jupyter-widgets/controls",
            "_model_module_version": "1.5.0",
            "_model_name": "HTMLModel",
            "_view_count": null,
            "_view_module": "@jupyter-widgets/controls",
            "_view_module_version": "1.5.0",
            "_view_name": "HTMLView",
            "description": "",
            "description_tooltip": null,
            "layout": "IPY_MODEL_04acac21b18f4ef585a8226f8a5c09f2",
            "placeholder": "​",
            "style": "IPY_MODEL_6fb5bbfbd43a484aa11371f5cfdf2181",
            "value": "100%"
          }
        },
        "d01d88ef7e554006894c23e9c0e3edb8": {
          "model_module": "@jupyter-widgets/controls",
          "model_name": "FloatProgressModel",
          "model_module_version": "1.5.0",
          "state": {
            "_dom_classes": [],
            "_model_module": "@jupyter-widgets/controls",
            "_model_module_version": "1.5.0",
            "_model_name": "FloatProgressModel",
            "_view_count": null,
            "_view_module": "@jupyter-widgets/controls",
            "_view_module_version": "1.5.0",
            "_view_name": "ProgressView",
            "bar_style": "success",
            "description": "",
            "description_tooltip": null,
            "layout": "IPY_MODEL_aa484b7acc634516ab18d724d3358ed7",
            "max": 85,
            "min": 0,
            "orientation": "horizontal",
            "style": "IPY_MODEL_5037834acab749d99432ea8654ede2d7",
            "value": 85
          }
        },
        "49883e12cda24c468a49c7447ea13ccd": {
          "model_module": "@jupyter-widgets/controls",
          "model_name": "HTMLModel",
          "model_module_version": "1.5.0",
          "state": {
            "_dom_classes": [],
            "_model_module": "@jupyter-widgets/controls",
            "_model_module_version": "1.5.0",
            "_model_name": "HTMLModel",
            "_view_count": null,
            "_view_module": "@jupyter-widgets/controls",
            "_view_module_version": "1.5.0",
            "_view_name": "HTMLView",
            "description": "",
            "description_tooltip": null,
            "layout": "IPY_MODEL_b842dd1c905e43e4b76d204810a4efc3",
            "placeholder": "​",
            "style": "IPY_MODEL_876c3208430a4a5aaa1b054480d2e99a",
            "value": " 85/85 [elapsed: 00:08 remaining: 00:00]"
          }
        },
        "7865c522b67249239b9d1c72ea610a09": {
          "model_module": "@jupyter-widgets/base",
          "model_name": "LayoutModel",
          "model_module_version": "1.2.0",
          "state": {
            "_model_module": "@jupyter-widgets/base",
            "_model_module_version": "1.2.0",
            "_model_name": "LayoutModel",
            "_view_count": null,
            "_view_module": "@jupyter-widgets/base",
            "_view_module_version": "1.2.0",
            "_view_name": "LayoutView",
            "align_content": null,
            "align_items": null,
            "align_self": null,
            "border": null,
            "bottom": null,
            "display": null,
            "flex": null,
            "flex_flow": null,
            "grid_area": null,
            "grid_auto_columns": null,
            "grid_auto_flow": null,
            "grid_auto_rows": null,
            "grid_column": null,
            "grid_gap": null,
            "grid_row": null,
            "grid_template_areas": null,
            "grid_template_columns": null,
            "grid_template_rows": null,
            "height": null,
            "justify_content": null,
            "justify_items": null,
            "left": null,
            "margin": null,
            "max_height": null,
            "max_width": null,
            "min_height": null,
            "min_width": null,
            "object_fit": null,
            "object_position": null,
            "order": null,
            "overflow": null,
            "overflow_x": null,
            "overflow_y": null,
            "padding": null,
            "right": null,
            "top": null,
            "visibility": null,
            "width": null
          }
        },
        "04acac21b18f4ef585a8226f8a5c09f2": {
          "model_module": "@jupyter-widgets/base",
          "model_name": "LayoutModel",
          "model_module_version": "1.2.0",
          "state": {
            "_model_module": "@jupyter-widgets/base",
            "_model_module_version": "1.2.0",
            "_model_name": "LayoutModel",
            "_view_count": null,
            "_view_module": "@jupyter-widgets/base",
            "_view_module_version": "1.2.0",
            "_view_name": "LayoutView",
            "align_content": null,
            "align_items": null,
            "align_self": null,
            "border": null,
            "bottom": null,
            "display": null,
            "flex": null,
            "flex_flow": null,
            "grid_area": null,
            "grid_auto_columns": null,
            "grid_auto_flow": null,
            "grid_auto_rows": null,
            "grid_column": null,
            "grid_gap": null,
            "grid_row": null,
            "grid_template_areas": null,
            "grid_template_columns": null,
            "grid_template_rows": null,
            "height": null,
            "justify_content": null,
            "justify_items": null,
            "left": null,
            "margin": null,
            "max_height": null,
            "max_width": null,
            "min_height": null,
            "min_width": null,
            "object_fit": null,
            "object_position": null,
            "order": null,
            "overflow": null,
            "overflow_x": null,
            "overflow_y": null,
            "padding": null,
            "right": null,
            "top": null,
            "visibility": null,
            "width": null
          }
        },
        "6fb5bbfbd43a484aa11371f5cfdf2181": {
          "model_module": "@jupyter-widgets/controls",
          "model_name": "DescriptionStyleModel",
          "model_module_version": "1.5.0",
          "state": {
            "_model_module": "@jupyter-widgets/controls",
            "_model_module_version": "1.5.0",
            "_model_name": "DescriptionStyleModel",
            "_view_count": null,
            "_view_module": "@jupyter-widgets/base",
            "_view_module_version": "1.2.0",
            "_view_name": "StyleView",
            "description_width": ""
          }
        },
        "aa484b7acc634516ab18d724d3358ed7": {
          "model_module": "@jupyter-widgets/base",
          "model_name": "LayoutModel",
          "model_module_version": "1.2.0",
          "state": {
            "_model_module": "@jupyter-widgets/base",
            "_model_module_version": "1.2.0",
            "_model_name": "LayoutModel",
            "_view_count": null,
            "_view_module": "@jupyter-widgets/base",
            "_view_module_version": "1.2.0",
            "_view_name": "LayoutView",
            "align_content": null,
            "align_items": null,
            "align_self": null,
            "border": null,
            "bottom": null,
            "display": null,
            "flex": null,
            "flex_flow": null,
            "grid_area": null,
            "grid_auto_columns": null,
            "grid_auto_flow": null,
            "grid_auto_rows": null,
            "grid_column": null,
            "grid_gap": null,
            "grid_row": null,
            "grid_template_areas": null,
            "grid_template_columns": null,
            "grid_template_rows": null,
            "height": null,
            "justify_content": null,
            "justify_items": null,
            "left": null,
            "margin": null,
            "max_height": null,
            "max_width": null,
            "min_height": null,
            "min_width": null,
            "object_fit": null,
            "object_position": null,
            "order": null,
            "overflow": null,
            "overflow_x": null,
            "overflow_y": null,
            "padding": null,
            "right": null,
            "top": null,
            "visibility": null,
            "width": null
          }
        },
        "5037834acab749d99432ea8654ede2d7": {
          "model_module": "@jupyter-widgets/controls",
          "model_name": "ProgressStyleModel",
          "model_module_version": "1.5.0",
          "state": {
            "_model_module": "@jupyter-widgets/controls",
            "_model_module_version": "1.5.0",
            "_model_name": "ProgressStyleModel",
            "_view_count": null,
            "_view_module": "@jupyter-widgets/base",
            "_view_module_version": "1.2.0",
            "_view_name": "StyleView",
            "bar_color": null,
            "description_width": ""
          }
        },
        "b842dd1c905e43e4b76d204810a4efc3": {
          "model_module": "@jupyter-widgets/base",
          "model_name": "LayoutModel",
          "model_module_version": "1.2.0",
          "state": {
            "_model_module": "@jupyter-widgets/base",
            "_model_module_version": "1.2.0",
            "_model_name": "LayoutModel",
            "_view_count": null,
            "_view_module": "@jupyter-widgets/base",
            "_view_module_version": "1.2.0",
            "_view_name": "LayoutView",
            "align_content": null,
            "align_items": null,
            "align_self": null,
            "border": null,
            "bottom": null,
            "display": null,
            "flex": null,
            "flex_flow": null,
            "grid_area": null,
            "grid_auto_columns": null,
            "grid_auto_flow": null,
            "grid_auto_rows": null,
            "grid_column": null,
            "grid_gap": null,
            "grid_row": null,
            "grid_template_areas": null,
            "grid_template_columns": null,
            "grid_template_rows": null,
            "height": null,
            "justify_content": null,
            "justify_items": null,
            "left": null,
            "margin": null,
            "max_height": null,
            "max_width": null,
            "min_height": null,
            "min_width": null,
            "object_fit": null,
            "object_position": null,
            "order": null,
            "overflow": null,
            "overflow_x": null,
            "overflow_y": null,
            "padding": null,
            "right": null,
            "top": null,
            "visibility": null,
            "width": null
          }
        },
        "876c3208430a4a5aaa1b054480d2e99a": {
          "model_module": "@jupyter-widgets/controls",
          "model_name": "DescriptionStyleModel",
          "model_module_version": "1.5.0",
          "state": {
            "_model_module": "@jupyter-widgets/controls",
            "_model_module_version": "1.5.0",
            "_model_name": "DescriptionStyleModel",
            "_view_count": null,
            "_view_module": "@jupyter-widgets/base",
            "_view_module_version": "1.2.0",
            "_view_name": "StyleView",
            "description_width": ""
          }
        }
      }
    }
  },
  "nbformat": 4,
  "nbformat_minor": 0
}