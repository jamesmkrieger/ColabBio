{
  "nbformat": 4,
  "nbformat_minor": 0,
  "metadata": {
    "colab": {
      "provenance": [],
      "include_colab_link": true
    },
    "kernelspec": {
      "name": "python3",
      "display_name": "Python 3"
    },
    "language_info": {
      "name": "python"
    },
    "accelerator": "GPU"
  },
  "cells": [
    {
      "cell_type": "markdown",
      "metadata": {
        "id": "view-in-github",
        "colab_type": "text"
      },
      "source": [
        "<a href=\"https://colab.research.google.com/github/sokrypton/ColabBio/blob/main/categorical_jacobian/proteinmpnn.ipynb\" target=\"_parent\"><img src=\"https://colab.research.google.com/assets/colab-badge.svg\" alt=\"Open In Colab\"/></a>"
      ]
    },
    {
      "cell_type": "markdown",
      "source": [
        "#**get Categorical Jacobian from ProteinMPNN**\n",
        "##(aka. extract conservation and coevolution for your favorite protein)"
      ],
      "metadata": {
        "id": "wqjacq79TckC"
      }
    },
    {
      "cell_type": "code",
      "metadata": {
        "id": "DtRKmskxgHfs",
        "cellView": "form"
      },
      "source": [
        "%%time\n",
        "#@markdown ##setup model\n",
        "model_name = \"v_48_020\" #@param [\"v_48_002\", \"v_48_010\", \"v_48_020\", \"v_48_030\"]\n",
        "use_solublempnn = False # @param {type:\"boolean\"}\n",
        "\n",
        "import os\n",
        "if not os.path.isdir(\"colabdesign\"):\n",
        "  print(\"installing ColabDesign...\")\n",
        "  os.system(\"pip -q install git+https://github.com/sokrypton/ColabDesign.git\")\n",
        "  os.system(\"ln -s /usr/local/lib/python3.*/dist-packages/colabdesign colabdesign\")\n",
        "\n",
        "if not os.path.isfile(\"utils.py\"):\n",
        "  os.system(\"wget -qnc https://raw.githubusercontent.com/sokrypton/ColabBio/main/categorical_jacobian/utils.py\")\n",
        "  os.system(\"apt-get install aria2 -qq\")\n",
        "  os.system(\"mkdir -p /root/.cache/torch/hub/checkpoints/\")\n",
        "\n",
        "from colabdesign.mpnn import mk_mpnn_model, clear_mem\n",
        "from colabdesign.shared.protein import pdb_to_string\n",
        "\n",
        "import jax\n",
        "import jax.numpy as jnp\n",
        "import numpy as np\n",
        "import matplotlib.pyplot as plt\n",
        "from IPython.display import HTML\n",
        "import pandas as pd\n",
        "\n",
        "from google.colab import files\n",
        "def get_pdb(pdb_code=\"\"):\n",
        "  if pdb_code is None or pdb_code == \"\":\n",
        "    upload_dict = files.upload()\n",
        "    pdb_string = upload_dict[list(upload_dict.keys())[0]]\n",
        "    with open(\"tmp.pdb\",\"wb\") as out: out.write(pdb_string)\n",
        "    return \"tmp.pdb\"\n",
        "  elif os.path.isfile(pdb_code):\n",
        "    return pdb_code\n",
        "  elif len(pdb_code) == 4:\n",
        "    os.system(f\"wget -qnc https://files.rcsb.org/view/{pdb_code}.pdb\")\n",
        "    return f\"{pdb_code}.pdb\"\n",
        "  else:\n",
        "    os.system(f\"wget -qnc https://alphafold.ebi.ac.uk/files/AF-{pdb_code}-F1-model_v3.pdb\")\n",
        "    return f\"AF-{pdb_code}-F1-model_v3.pdb\"\n",
        "\n",
        "from scipy.special import softmax\n",
        "import pandas as pd\n",
        "import numpy as np\n",
        "import bokeh.plotting\n",
        "bokeh.io.output_notebook()\n",
        "from bokeh.models import BasicTicker, PrintfTickFormatter\n",
        "from bokeh.palettes import viridis, RdBu\n",
        "from bokeh.transform import linear_cmap\n",
        "from bokeh.plotting import figure, show\n",
        "\n",
        "from matplotlib.colors import to_hex\n",
        "cmap = plt.colormaps[\"bwr_r\"]\n",
        "bwr_r = [to_hex(cmap(i)) for i in np.linspace(0, 1, 256)]\n",
        "cmap = plt.colormaps[\"gray_r\"]\n",
        "gray = [to_hex(cmap(i)) for i in np.linspace(0, 1, 256)]\n",
        "\n",
        "def pssm_to_dataframe(pssm, alphabet):\n",
        "  sequence_length = pssm.shape[0]\n",
        "  idx = [str(i) for i in np.arange(1, sequence_length + 1)]\n",
        "  df = pd.DataFrame(pssm, index=idx, columns=list(alphabet))\n",
        "  df = df.stack().reset_index()\n",
        "  df.columns = ['Position', 'Amino Acid', 'Probability']\n",
        "  return df\n",
        "\n",
        "def contact_to_dataframe(con):\n",
        "  sequence_length = con.shape[0]\n",
        "  idx = [str(i) for i in np.arange(1, sequence_length + 1)]\n",
        "  df = pd.DataFrame(con, index=idx, columns=idx)\n",
        "  df = df.stack().reset_index()\n",
        "  df.columns = ['i', 'j', 'value']\n",
        "  return df\n",
        "\n",
        "def pair_to_dataframe(pair, alphabet):\n",
        "  sequence_length = pair.shape[0]\n",
        "  df = pd.DataFrame(pair, index=list(alphabet), columns=list(alphabet))\n",
        "  df = df.stack().reset_index()\n",
        "  df.columns = ['aa_i', 'aa_j', 'value']\n",
        "  return df\n",
        "\n",
        "from utils import *\n",
        "import tqdm.notebook\n",
        "\n",
        "TQDM_BAR_FORMAT = '{l_bar}{bar}| {n_fmt}/{total_fmt} [elapsed: {elapsed} remaining: {remaining}]'\n",
        "\n",
        "clear_mem()\n",
        "mpnn_model = mk_mpnn_model(model_name, weights=\"soluble\" if use_solublempnn else \"original\")\n",
        "\n",
        "# alphabet output\n",
        "from colabdesign.mpnn.model import residue_constants\n",
        "alphabet = \"\".join(residue_constants.restypes)\n",
        "ALPHABET = \"AFILVMWYDEKRHNQSTGPC\"\n",
        "ALPHABET_map = [alphabet.index(a) for a in ALPHABET]"
      ],
      "execution_count": null,
      "outputs": []
    },
    {
      "cell_type": "code",
      "source": [
        "#@markdown ##enter structure\n",
        "\n",
        "#@markdown #### Input Options\n",
        "pdb='6MRR' #@param {type:\"string\"}\n",
        "#@markdown - leave blank to get an upload prompt\n",
        "chains = \"A\" #@param {type:\"string\"}\n",
        "\n",
        "pdb_path = get_pdb(pdb)\n",
        "mpnn_model.prep_inputs(pdb_filename=pdb_path, chain=chains)\n",
        "sequence = \"\".join([alphabet[x] for x in mpnn_model._inputs[\"S\"]])\n",
        "L = sum(mpnn_model._lengths)\n",
        "\n",
        "os.makedirs(\"output\",exist_ok=True)\n",
        "with open(\"output/README.txt\",\"w\") as handle:\n",
        "  handle.write(\"conservation_logits.txt = (L, A) matrix\\n\")\n",
        "  handle.write(\"coevolution.txt = (L, L) matrix\\n\")\n",
        "  handle.write(\"jac.npy = ((L*L-L)/2, A, A) tensor\\n\")\n",
        "  handle.write(\"jac index can be recreated with np.triu_indices(L,1)\\n\")\n",
        "  handle.write(f\"[A]lphabet: {ALPHABET}\\n\")\n",
        "  handle.write(f\"sequence: {sequence}\\n\")"
      ],
      "metadata": {
        "cellView": "form",
        "id": "0iY6qZdr7NLq"
      },
      "execution_count": null,
      "outputs": []
    },
    {
      "cell_type": "code",
      "source": [
        "#@markdown ##compute conservation\n",
        "ar_mask = 1-np.eye(L)\n",
        "logits = mpnn_model.score(ar_mask=ar_mask)[\"logits\"]\n",
        "logits = logits[:,ALPHABET_map]\n",
        "np.savetxt(f\"output/conservation_logits_{model_name}.txt\",logits)\n",
        "pssm = softmax(logits,-1)\n",
        "df = pssm_to_dataframe(pssm, ALPHABET)\n",
        "\n",
        "# plot pssm\n",
        "num_colors = 256  # You can adjust this number\n",
        "palette = viridis(256)\n",
        "TOOLS = \"hover,save,pan,box_zoom,reset,wheel_zoom\"\n",
        "p = figure(title=\"CONSERVATION\",\n",
        "           x_range=[str(x) for x in range(1,len(sequence)+1)],\n",
        "           y_range=list(ALPHABET)[::-1],\n",
        "           width=900, height=400,\n",
        "           tools=TOOLS, toolbar_location='below',\n",
        "           tooltips=[('Position', '@Position'), ('Amino Acid', '@{Amino Acid}'), ('Probability', '@Probability')])\n",
        "\n",
        "r = p.rect(x=\"Position\", y=\"Amino Acid\", width=1, height=1, source=df,\n",
        "           fill_color=linear_cmap('Probability', palette, low=0, high=1),\n",
        "           line_color=None)\n",
        "p.xaxis.visible = False  # Hide the x-axis\n",
        "show(p)"
      ],
      "metadata": {
        "id": "vcWEjQApY5Fk",
        "cellView": "form"
      },
      "execution_count": null,
      "outputs": []
    },
    {
      "cell_type": "code",
      "source": [
        "#@markdown ##compute coevolution\n",
        "ar_mask = 1-np.eye(L)\n",
        "fx = mpnn_model.score(ar_mask=ar_mask)[\"logits\"]\n",
        "fx_h = np.zeros((L,21,L,21))\n",
        "with tqdm.notebook.tqdm(total=L, bar_format=TQDM_BAR_FORMAT) as pbar:\n",
        "  for i in range(L):\n",
        "    S = mpnn_model._inputs[\"S\"].copy()\n",
        "    for a in range(20):\n",
        "      S[i] = a\n",
        "      fx_h[i,a] = mpnn_model.score(S=S,ar_mask=ar_mask)[\"logits\"]\n",
        "    pbar.update(1)\n",
        "\n",
        "jac = fx_h-fx\n",
        "# center & symmetrize\n",
        "for i in range(4): jac -= jac.mean(i,keepdims=True)\n",
        "jac = (jac + jac.transpose(2,3,0,1))/2\n",
        "jac = jac[:,ALPHABET_map][...,ALPHABET_map]\n",
        "\n",
        "contacts = get_contacts(jac, rm=0)\n",
        "np.savetxt(f\"output/coevolution_{model_name}.txt\",contacts)\n",
        "i,j = np.triu_indices(len(sequence),1)\n",
        "np.save(f\"output/jac_{model_name}.npy\",jac[i,:,j,:].astype(np.float16))\n",
        "\n",
        "df = contact_to_dataframe(contacts)\n",
        "TOOLS = \"hover,save,pan,box_zoom,reset,wheel_zoom\"\n",
        "p = figure(title=\"COEVOLUTION\",\n",
        "          x_range=[str(x) for x in range(1,len(sequence)+1)],\n",
        "          y_range=[str(x) for x in range(1,len(sequence)+1)][::-1],\n",
        "          width=800, height=800,\n",
        "          tools=TOOLS, toolbar_location='below',\n",
        "          tooltips=[('i', '@i'), ('j', '@j'), ('value', '@value')])\n",
        "\n",
        "r = p.rect(x=\"i\", y=\"j\", width=1, height=1, source=df,\n",
        "          fill_color=linear_cmap('value', gray, low=df.value.min(), high=df.value.max()),\n",
        "          line_color=None)\n",
        "p.xaxis.visible = False  # Hide the x-axis\n",
        "p.yaxis.visible = False  # Hide the x-axis\n",
        "show(p)"
      ],
      "metadata": {
        "id": "q3vDgFx6Y6xu",
        "cellView": "form"
      },
      "execution_count": null,
      "outputs": []
    },
    {
      "cell_type": "code",
      "source": [
        "#@markdown ##show table of top covarying positions\n",
        "from google.colab import data_table\n",
        "\n",
        "sub_df = df[df[\"j\"]>df[\"i\"]].sort_values('value',ascending=False)\n",
        "data_table.DataTable(sub_df, include_index=False, num_rows_per_page=20, min_width=10)"
      ],
      "metadata": {
        "cellView": "form",
        "id": "8qn3WWtho8VN"
      },
      "execution_count": null,
      "outputs": []
    },
    {
      "cell_type": "code",
      "source": [
        "#@markdown ##select pair of residues to investigate\n",
        "#@markdown Note: 1-indexed (first position is 1)\n",
        "\n",
        "position_i = 16 # @param {type:\"integer\"}\n",
        "position_j = 48 # @param {type:\"integer\"}\n",
        "i = position_i - 1\n",
        "j = position_j - 1\n",
        "df = pair_to_dataframe(jac[i,:,j,:], ALPHABET)\n",
        "\n",
        "# plot pssm\n",
        "TOOLS = \"hover,save,pan,box_zoom,reset,wheel_zoom\"\n",
        "p = figure(title=f\"coevolution between {position_i} {position_j}\",\n",
        "           x_range=list(ALPHABET),\n",
        "           y_range=list(ALPHABET)[::-1],\n",
        "           width=400, height=400,\n",
        "           tools=TOOLS, toolbar_location='below',\n",
        "           tooltips=[('aa_i', '@aa_i'), ('aa_j', '@aa_j'), ('value', '@value')])\n",
        "p.xaxis.axis_label = f\"{sequence[i]}{position_i}\"\n",
        "p.yaxis.axis_label = f\"{sequence[j]}{position_j}\"\n",
        "\n",
        "r = p.rect(x=\"aa_i\", y=\"aa_j\", width=1, height=1, source=df,\n",
        "           fill_color=linear_cmap('value', bwr_r, low=-3.0, high=3.0),\n",
        "           line_color=None, dilate=True)\n",
        "show(p)"
      ],
      "metadata": {
        "id": "t-0NBjgxXI1Y",
        "cellView": "form"
      },
      "execution_count": null,
      "outputs": []
    },
    {
      "cell_type": "code",
      "source": [
        "#@title download results (optional)\n",
        "from google.colab import files\n",
        "os.system(f\"zip -r output.zip output/\")\n",
        "files.download(f'output.zip')"
      ],
      "metadata": {
        "cellView": "form",
        "id": "8HZ7bpwg63bN"
      },
      "execution_count": null,
      "outputs": []
    }
  ]
}