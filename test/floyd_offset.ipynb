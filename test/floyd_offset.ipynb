{
  "nbformat": 4,
  "nbformat_minor": 0,
  "metadata": {
    "colab": {
      "provenance": [],
      "authorship_tag": "ABX9TyNQIHPjpWzsvQe6EVoAziQE",
      "include_colab_link": true
    },
    "kernelspec": {
      "name": "python3",
      "display_name": "Python 3"
    },
    "language_info": {
      "name": "python"
    }
  },
  "cells": [
    {
      "cell_type": "markdown",
      "metadata": {
        "id": "view-in-github",
        "colab_type": "text"
      },
      "source": [
        "<a href=\"https://colab.research.google.com/github/sokrypton/ColabBio/blob/main/test/floyd_offset.ipynb\" target=\"_parent\"><img src=\"https://colab.research.google.com/assets/colab-badge.svg\" alt=\"Open In Colab\"/></a>"
      ]
    },
    {
      "cell_type": "code",
      "execution_count": 1,
      "metadata": {
        "id": "-P1RBOSAtd0G"
      },
      "outputs": [],
      "source": [
        "import numpy as np\n",
        "import matplotlib.pyplot as plt\n",
        "def floyd_warshall(d):\n",
        "  for m in range(d.shape[0]):\n",
        "    o = d[m]\n",
        "    oo = o[None,:]+o[:,None]\n",
        "    d = np.minimum(d, oo)\n",
        "  return d\n",
        "\n",
        "color = dict(cmap=\"bwr_r\",vmin=-4,vmax=4)"
      ]
    },
    {
      "cell_type": "code",
      "source": [
        "n = np.inf\n",
        "i = np.array([[ 0,  1,  n,  n,  n],\n",
        "              [ 1,  0,  1,  n,  n],\n",
        "              [ n,  1,  0,  1,  n],\n",
        "              [ n,  n,  1,  0,  1],\n",
        "              [ n,  n,  n,  1,  0]])\n",
        "\n",
        "plt.figure(figsize=(6,3))\n",
        "plt.subplot(1,2,1); plt.imshow(i,**color)\n",
        "plt.subplot(1,2,2); plt.imshow(floyd_warshall(i),**color)\n",
        "plt.show()"
      ],
      "metadata": {
        "colab": {
          "base_uri": "https://localhost:8080/",
          "height": 272
        },
        "id": "bVjJR62Ntnp6",
        "outputId": "9fd42541-b145-48eb-98b3-2d578b2beba4"
      },
      "execution_count": 2,
      "outputs": [
        {
          "output_type": "display_data",
          "data": {
            "text/plain": [
              "<Figure size 600x300 with 2 Axes>"
            ],
            "image/png": "[encoded data removed]"
          },
          "metadata": {}
        }
      ]
    },
    {
      "cell_type": "code",
      "source": [
        "n = np.inf\n",
        "i = np.array([[ 0,  1,  n,  n,  1],\n",
        "              [ 1,  0,  1,  n,  n],\n",
        "              [ n,  1,  0,  1,  n],\n",
        "              [ n,  n,  1,  0,  1],\n",
        "              [ 1,  n,  n,  1,  0]])\n",
        "plt.figure(figsize=(6,3))\n",
        "plt.subplot(1,2,1); plt.imshow(i,**color)\n",
        "plt.subplot(1,2,2); plt.imshow(floyd_warshall(i),**color)\n",
        "plt.show()"
      ],
      "metadata": {
        "colab": {
          "base_uri": "https://localhost:8080/",
          "height": 272
        },
        "id": "jG-5GuB7tjES",
        "outputId": "ed8a88c6-53ad-43e7-dfa6-493ca2d826cf"
      },
      "execution_count": 3,
      "outputs": [
        {
          "output_type": "display_data",
          "data": {
            "text/plain": [
              "<Figure size 600x300 with 2 Axes>"
            ],
            "image/png": "[encoded data removed]"
          },
          "metadata": {}
        }
      ]
    },
    {
      "cell_type": "markdown",
      "source": [
        "#But... this is WRONG. The directionality is lost..."
      ],
      "metadata": {
        "id": "6lyLvj1Q5HKw"
      }
    },
    {
      "cell_type": "code",
      "source": [
        "n = np.inf\n",
        "i = np.array([[ 0, -1,  n,  n,  n],\n",
        "              [ 1,  0, -1,  n,  n],\n",
        "              [ n,  1,  0, -1,  n],\n",
        "              [ n,  n,  1,  0, -1],\n",
        "              [ n,  n,  n,  1,  0]])\n",
        "o = np.array([[ 0, -1, -2, -3, -4],\n",
        "              [ 1,  0, -1, -2, -3],\n",
        "              [ 2,  1,  0, -1, -2],\n",
        "              [ 3,  2,  1,  0, -1],\n",
        "              [ 4,  3,  2,  1,  0]])\n",
        "plt.figure(figsize=(9,3))\n",
        "plt.subplot(1,3,1); plt.title(\"input\"); plt.imshow(i,**color)\n",
        "plt.subplot(1,3,2); plt.title(\"output\"); plt.imshow(floyd_warshall(i),cmap=\"bwr_r\")\n",
        "plt.subplot(1,3,3); plt.title(\"expected output\"); plt.imshow(o,**color)\n",
        "plt.show()"
      ],
      "metadata": {
        "colab": {
          "base_uri": "https://localhost:8080/",
          "height": 288
        },
        "id": "NHrNYgtk6o5l",
        "outputId": "909818fd-8da6-4f44-9abf-414198809db5"
      },
      "execution_count": 4,
      "outputs": [
        {
          "output_type": "display_data",
          "data": {
            "text/plain": [
              "<Figure size 900x300 with 3 Axes>"
            ],
            "image/png": "[encoded data removed]"
          },
          "metadata": {}
        }
      ]
    },
    {
      "cell_type": "code",
      "source": [
        "n = np.inf\n",
        "i = np.array([[ 0, -1,  n,  n,  1],\n",
        "              [ 1,  0, -1,  n,  n],\n",
        "              [ n,  1,  0, -1,  n],\n",
        "              [ n,  n,  1,  0, -1],\n",
        "              [-1,  n,  n,  1,  0]])\n",
        "o = np.array([[ 0, -1, -2,  2,  1],\n",
        "              [ 1,  0, -1, -2,  2],\n",
        "              [ 2,  1,  0, -1, -2],\n",
        "              [-2,  2,  1,  0, -1],\n",
        "              [-1, -2,  2,  1,  0]])\n",
        "plt.figure(figsize=(9,3))\n",
        "plt.subplot(1,3,1); plt.title(\"input\"); plt.imshow(i,**color)\n",
        "plt.subplot(1,3,2); plt.title(\"output\"); plt.imshow(floyd_warshall(i),cmap=\"bwr_r\")\n",
        "plt.subplot(1,3,3); plt.title(\"expected output\"); plt.imshow(o,**color)\n",
        "plt.show()"
      ],
      "metadata": {
        "colab": {
          "base_uri": "https://localhost:8080/",
          "height": 288
        },
        "id": "Cy_y7eyUuKX1",
        "outputId": "2e0b5b7a-8373-49dc-9cfb-1bca21bab443"
      },
      "execution_count": 5,
      "outputs": [
        {
          "output_type": "display_data",
          "data": {
            "text/plain": [
              "<Figure size 900x300 with 3 Axes>"
            ],
            "image/png": "[encoded data removed]"
          },
          "metadata": {}
        }
      ]
    },
    {
      "cell_type": "markdown",
      "source": [
        "# Puzzle, fix this!"
      ],
      "metadata": {
        "id": "eVNR5cZC6-9n"
      }
    },
    {
      "cell_type": "code",
      "source": [],
      "metadata": {
        "id": "pJxIrq728Syb"
      },
      "execution_count": null,
      "outputs": []
    }
  ]
}