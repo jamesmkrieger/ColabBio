{
  "nbformat": 4,
  "nbformat_minor": 0,
  "metadata": {
    "colab": {
      "provenance": [],
      "authorship_tag": "ABX9TyMNbbb/7jAAuKGqBvwodWwz",
      "include_colab_link": true
    },
    "kernelspec": {
      "name": "python3",
      "display_name": "Python 3"
    },
    "language_info": {
      "name": "python"
    }
  },
  "cells": [
    {
      "cell_type": "markdown",
      "metadata": {
        "id": "view-in-github",
        "colab_type": "text"
      },
      "source": [
        "<a href=\"https://colab.research.google.com/github/sokrypton/ColabBio/blob/main/test/floyd_offset.ipynb\" target=\"_parent\"><img src=\"https://colab.research.google.com/assets/colab-badge.svg\" alt=\"Open In Colab\"/></a>"
      ]
    },
    {
      "cell_type": "code",
      "execution_count": 16,
      "metadata": {
        "id": "-P1RBOSAtd0G"
      },
      "outputs": [],
      "source": [
        "import numpy as np\n",
        "import matplotlib.pyplot as plt\n",
        "def floyd_warshall(d):\n",
        "  for m in range(d.shape[0]):\n",
        "    o = d[m]\n",
        "    oo = o[None,:]+o[:,None]\n",
        "    d = np.minimum(d, oo)\n",
        "  return d"
      ]
    },
    {
      "cell_type": "code",
      "source": [
        "n = np.inf\n",
        "o = np.array([[0,1,n,n],\n",
        "              [1,0,1,n],\n",
        "              [n,1,0,1],\n",
        "              [n,n,1,0]])\n",
        "plt.figure(figsize=(6,3))\n",
        "plt.subplot(1,2,1); plt.imshow(o)\n",
        "plt.subplot(1,2,2); plt.imshow(floyd_warshall(o))\n",
        "plt.show()"
      ],
      "metadata": {
        "colab": {
          "base_uri": "https://localhost:8080/",
          "height": 272
        },
        "id": "jG-5GuB7tjES",
        "outputId": "727dea02-5b9a-4c56-c617-4a2860124823"
      },
      "execution_count": 17,
      "outputs": [
        {
          "output_type": "display_data",
          "data": {
            "text/plain": [
              "<Figure size 600x300 with 2 Axes>"
            ],
            "image/png": "[encoded data removed]"
          },
          "metadata": {}
        }
      ]
    },
    {
      "cell_type": "code",
      "source": [
        "n = np.inf\n",
        "o = np.array([[0,1,n,1],\n",
        "              [1,0,1,n],\n",
        "              [n,1,0,1],\n",
        "              [1,n,1,0]])\n",
        "plt.figure(figsize=(6,3))\n",
        "plt.subplot(1,2,1); plt.imshow(o)\n",
        "plt.subplot(1,2,2); plt.imshow(floyd_warshall(o))\n",
        "plt.show()"
      ],
      "metadata": {
        "colab": {
          "base_uri": "https://localhost:8080/",
          "height": 272
        },
        "id": "bVjJR62Ntnp6",
        "outputId": "7ab62dca-f714-4e3b-aacf-02f845ff8a2b"
      },
      "execution_count": 18,
      "outputs": [
        {
          "output_type": "display_data",
          "data": {
            "text/plain": [
              "<Figure size 600x300 with 2 Axes>"
            ],
            "image/png": "[encoded data removed]"
          },
          "metadata": {}
        }
      ]
    }
  ]
}